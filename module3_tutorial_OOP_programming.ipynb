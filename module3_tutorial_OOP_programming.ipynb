{
 "cells": [
  {
   "cell_type": "markdown",
   "metadata": {},
   "source": [
    "Module 3 Tutorial - Functional vs OOP Programming"
   ]
  },
  {
   "cell_type": "markdown",
   "metadata": {},
   "source": [
    "OOP Programming"
   ]
  },
  {
   "cell_type": "code",
   "execution_count": 1,
   "metadata": {},
   "outputs": [],
   "source": [
    "class Solution:\n",
    "    # Function to sort an array of 0s, 1s, and 2s\n",
    "    def sort012(self, arr):\n",
    "        # code here\n",
    "        # Initializing pointers for low, mid, and high\n",
    "        low, mid, high = 0, 0, len(arr) - 1\n",
    "        \n",
    "        # Traverse the array\n",
    "        while mid <= high:\n",
    "            if arr[mid] == 0:\n",
    "                # Swap the current element with the element at 'low' pointer\n",
    "                arr[low], arr[mid] = arr[mid], arr[low]\n",
    "                low += 1\n",
    "                mid += 1\n",
    "            elif arr[mid] == 1:\n",
    "                # Just move the mid pointer\n",
    "                mid += 1\n",
    "            else:\n",
    "                # Swap the current element with the element at 'high' pointer\n",
    "                arr[mid], arr[high] = arr[high], arr[mid]\n",
    "                high -= 1\n"
   ]
  },
  {
   "cell_type": "markdown",
   "metadata": {},
   "source": [
    "Test the code"
   ]
  },
  {
   "cell_type": "code",
   "execution_count": 2,
   "metadata": {},
   "outputs": [
    {
     "name": "stdout",
     "output_type": "stream",
     "text": [
      "Sorted array: [0, 0, 1, 1, 2, 2]\n"
     ]
    }
   ],
   "source": [
    "# Test the function with a sample input\n",
    "test_arr = [0, 1, 2, 0, 1, 2]\n",
    "\n",
    "# Create an instance of the Solution class\n",
    "solution = Solution()\n",
    "\n",
    "# Call the sort012 function to sort the test_arr\n",
    "solution.sort012(test_arr)\n",
    "\n",
    "# Print the sorted array to check the output\n",
    "print(\"Sorted array:\", test_arr)\n"
   ]
  }
 ],
 "metadata": {
  "kernelspec": {
   "display_name": "Python 3",
   "language": "python",
   "name": "python3"
  },
  "language_info": {
   "codemirror_mode": {
    "name": "ipython",
    "version": 3
   },
   "file_extension": ".py",
   "mimetype": "text/x-python",
   "name": "python",
   "nbconvert_exporter": "python",
   "pygments_lexer": "ipython3",
   "version": "3.12.2"
  }
 },
 "nbformat": 4,
 "nbformat_minor": 2
}
